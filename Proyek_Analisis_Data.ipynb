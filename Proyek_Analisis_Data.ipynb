{
  "cells": [
    {
      "cell_type": "markdown",
      "metadata": {
        "id": "H9wADwK78DCz"
      },
      "source": [
        "# Proyek Analisis Data: Bike Sharing Dataset\n",
        "- **Nama:** Dave Matthew Peter Lumban Tobing\n",
        "- **Email:** m010d4ky3092@bangkit.academy"
      ]
    },
    {
      "cell_type": "markdown",
      "metadata": {
        "id": "eE0raob58DC0"
      },
      "source": [
        "## Menentukan Pertanyaan Bisnis"
      ]
    },
    {
      "cell_type": "markdown",
      "metadata": {
        "id": "GmQeQ5YF8DC0"
      },
      "source": [
        "- Bagaimana distribusi data untuk Casual vs Registered User ?\n",
        "- Apakah ada bulan atau musim tertentu dengan permintaan sewa sepeda yang lebih tinggi?"
      ]
    },
    {
      "cell_type": "markdown",
      "metadata": {
        "id": "H-z4QGlO8DC1"
      },
      "source": [
        "## Import Semua Packages/Library yang Digunakan"
      ]
    },
    {
      "cell_type": "code",
      "execution_count": 97,
      "metadata": {
        "id": "FVYwaObI8DC1"
      },
      "outputs": [],
      "source": [
        "from scipy.stats import mstats\n",
        "import pandas as pd\n",
        "import numpy as np\n",
        "import seaborn as sns\n",
        "import scipy.stats as scp\n",
        "import plotly.express as px\n",
        "import matplotlib.pyplot as plt\n",
        "from numpy.polynomial.polynomial import polyfit"
      ]
    },
    {
      "cell_type": "markdown",
      "metadata": {
        "id": "h_Sh51Xy8DC1"
      },
      "source": [
        "## Data Wrangling"
      ]
    },
    {
      "cell_type": "markdown",
      "metadata": {
        "id": "sXU2GBYu8DC1"
      },
      "source": [
        "### Gathering Data"
      ]
    },
    {
      "cell_type": "markdown",
      "metadata": {
        "id": "WjbqOhRiNxit"
      },
      "source": [
        "##### Membaca file day.csv dan hour.csv"
      ]
    },
    {
      "cell_type": "code",
      "execution_count": 98,
      "metadata": {
        "id": "BlAshnDCOru2"
      },
      "outputs": [],
      "source": [
        "df_day = pd.read_csv('day.csv')\n",
        "df_hour = pd.read_csv('hour.csv')"
      ]
    },
    {
      "cell_type": "markdown",
      "metadata": {
        "id": "FHSiqaZp8DC1"
      },
      "source": [
        "### Assessing Data"
      ]
    },
    {
      "cell_type": "markdown",
      "metadata": {
        "id": "IP9xh5RDN1mk"
      },
      "source": [
        "##### Melihat jumlah data dan jumlah atribut pada dataset day.csv"
      ]
    },
    {
      "cell_type": "code",
      "execution_count": 99,
      "metadata": {
        "colab": {
          "base_uri": "https://localhost:8080/",
          "height": 347
        },
        "id": "ax-3tEjc9Cj1",
        "outputId": "eaa364e6-fedf-47a7-e05b-8d54d4084a27"
      },
      "outputs": [
        {
          "name": "stdout",
          "output_type": "stream",
          "text": [
            "Jumlah data: 731\n",
            "Jumlah atribut: 16\n"
          ]
        },
        {
          "data": {
            "text/html": [
              "<div>\n",
              "<style scoped>\n",
              "    .dataframe tbody tr th:only-of-type {\n",
              "        vertical-align: middle;\n",
              "    }\n",
              "\n",
              "    .dataframe tbody tr th {\n",
              "        vertical-align: top;\n",
              "    }\n",
              "\n",
              "    .dataframe thead th {\n",
              "        text-align: right;\n",
              "    }\n",
              "</style>\n",
              "<table border=\"1\" class=\"dataframe\">\n",
              "  <thead>\n",
              "    <tr style=\"text-align: right;\">\n",
              "      <th></th>\n",
              "      <th>instant</th>\n",
              "      <th>dteday</th>\n",
              "      <th>season</th>\n",
              "      <th>yr</th>\n",
              "      <th>mnth</th>\n",
              "      <th>holiday</th>\n",
              "      <th>weekday</th>\n",
              "      <th>workingday</th>\n",
              "      <th>weathersit</th>\n",
              "      <th>temp</th>\n",
              "      <th>atemp</th>\n",
              "      <th>hum</th>\n",
              "      <th>windspeed</th>\n",
              "      <th>casual</th>\n",
              "      <th>registered</th>\n",
              "      <th>cnt</th>\n",
              "    </tr>\n",
              "  </thead>\n",
              "  <tbody>\n",
              "    <tr>\n",
              "      <th>0</th>\n",
              "      <td>1</td>\n",
              "      <td>2011-01-01</td>\n",
              "      <td>1</td>\n",
              "      <td>0</td>\n",
              "      <td>1</td>\n",
              "      <td>0</td>\n",
              "      <td>6</td>\n",
              "      <td>0</td>\n",
              "      <td>2</td>\n",
              "      <td>0.344167</td>\n",
              "      <td>0.363625</td>\n",
              "      <td>0.805833</td>\n",
              "      <td>0.160446</td>\n",
              "      <td>331</td>\n",
              "      <td>654</td>\n",
              "      <td>985</td>\n",
              "    </tr>\n",
              "    <tr>\n",
              "      <th>1</th>\n",
              "      <td>2</td>\n",
              "      <td>2011-01-02</td>\n",
              "      <td>1</td>\n",
              "      <td>0</td>\n",
              "      <td>1</td>\n",
              "      <td>0</td>\n",
              "      <td>0</td>\n",
              "      <td>0</td>\n",
              "      <td>2</td>\n",
              "      <td>0.363478</td>\n",
              "      <td>0.353739</td>\n",
              "      <td>0.696087</td>\n",
              "      <td>0.248539</td>\n",
              "      <td>131</td>\n",
              "      <td>670</td>\n",
              "      <td>801</td>\n",
              "    </tr>\n",
              "    <tr>\n",
              "      <th>2</th>\n",
              "      <td>3</td>\n",
              "      <td>2011-01-03</td>\n",
              "      <td>1</td>\n",
              "      <td>0</td>\n",
              "      <td>1</td>\n",
              "      <td>0</td>\n",
              "      <td>1</td>\n",
              "      <td>1</td>\n",
              "      <td>1</td>\n",
              "      <td>0.196364</td>\n",
              "      <td>0.189405</td>\n",
              "      <td>0.437273</td>\n",
              "      <td>0.248309</td>\n",
              "      <td>120</td>\n",
              "      <td>1229</td>\n",
              "      <td>1349</td>\n",
              "    </tr>\n",
              "    <tr>\n",
              "      <th>3</th>\n",
              "      <td>4</td>\n",
              "      <td>2011-01-04</td>\n",
              "      <td>1</td>\n",
              "      <td>0</td>\n",
              "      <td>1</td>\n",
              "      <td>0</td>\n",
              "      <td>2</td>\n",
              "      <td>1</td>\n",
              "      <td>1</td>\n",
              "      <td>0.200000</td>\n",
              "      <td>0.212122</td>\n",
              "      <td>0.590435</td>\n",
              "      <td>0.160296</td>\n",
              "      <td>108</td>\n",
              "      <td>1454</td>\n",
              "      <td>1562</td>\n",
              "    </tr>\n",
              "    <tr>\n",
              "      <th>4</th>\n",
              "      <td>5</td>\n",
              "      <td>2011-01-05</td>\n",
              "      <td>1</td>\n",
              "      <td>0</td>\n",
              "      <td>1</td>\n",
              "      <td>0</td>\n",
              "      <td>3</td>\n",
              "      <td>1</td>\n",
              "      <td>1</td>\n",
              "      <td>0.226957</td>\n",
              "      <td>0.229270</td>\n",
              "      <td>0.436957</td>\n",
              "      <td>0.186900</td>\n",
              "      <td>82</td>\n",
              "      <td>1518</td>\n",
              "      <td>1600</td>\n",
              "    </tr>\n",
              "  </tbody>\n",
              "</table>\n",
              "</div>"
            ],
            "text/plain": [
              "   instant      dteday  season  yr  mnth  holiday  weekday  workingday  \\\n",
              "0        1  2011-01-01       1   0     1        0        6           0   \n",
              "1        2  2011-01-02       1   0     1        0        0           0   \n",
              "2        3  2011-01-03       1   0     1        0        1           1   \n",
              "3        4  2011-01-04       1   0     1        0        2           1   \n",
              "4        5  2011-01-05       1   0     1        0        3           1   \n",
              "\n",
              "   weathersit      temp     atemp       hum  windspeed  casual  registered  \\\n",
              "0           2  0.344167  0.363625  0.805833   0.160446     331         654   \n",
              "1           2  0.363478  0.353739  0.696087   0.248539     131         670   \n",
              "2           1  0.196364  0.189405  0.437273   0.248309     120        1229   \n",
              "3           1  0.200000  0.212122  0.590435   0.160296     108        1454   \n",
              "4           1  0.226957  0.229270  0.436957   0.186900      82        1518   \n",
              "\n",
              "    cnt  \n",
              "0   985  \n",
              "1   801  \n",
              "2  1349  \n",
              "3  1562  \n",
              "4  1600  "
            ]
          },
          "execution_count": 99,
          "metadata": {},
          "output_type": "execute_result"
        }
      ],
      "source": [
        "total_rows, total_attributes = df_day.shape\n",
        "print('Jumlah data:', total_rows)\n",
        "print(\"Jumlah atribut:\", total_attributes)\n",
        "\n",
        "df_day.head()"
      ]
    },
    {
      "cell_type": "markdown",
      "metadata": {
        "id": "Y-RK91z9OCxj"
      },
      "source": [
        "##### Melihat jumlah data dan jumlah atribut pada dataset hour.csv"
      ]
    },
    {
      "cell_type": "code",
      "execution_count": 100,
      "metadata": {
        "colab": {
          "base_uri": "https://localhost:8080/",
          "height": 327
        },
        "id": "OGSHmcgkO8Jp",
        "outputId": "55c2afde-1ded-447e-ed42-9dd49b1c72e0"
      },
      "outputs": [
        {
          "name": "stdout",
          "output_type": "stream",
          "text": [
            "Jumlah data: 17379\n",
            "Jumlah atribut: 17\n"
          ]
        },
        {
          "data": {
            "text/html": [
              "<div>\n",
              "<style scoped>\n",
              "    .dataframe tbody tr th:only-of-type {\n",
              "        vertical-align: middle;\n",
              "    }\n",
              "\n",
              "    .dataframe tbody tr th {\n",
              "        vertical-align: top;\n",
              "    }\n",
              "\n",
              "    .dataframe thead th {\n",
              "        text-align: right;\n",
              "    }\n",
              "</style>\n",
              "<table border=\"1\" class=\"dataframe\">\n",
              "  <thead>\n",
              "    <tr style=\"text-align: right;\">\n",
              "      <th></th>\n",
              "      <th>instant</th>\n",
              "      <th>dteday</th>\n",
              "      <th>season</th>\n",
              "      <th>yr</th>\n",
              "      <th>mnth</th>\n",
              "      <th>hr</th>\n",
              "      <th>holiday</th>\n",
              "      <th>weekday</th>\n",
              "      <th>workingday</th>\n",
              "      <th>weathersit</th>\n",
              "      <th>temp</th>\n",
              "      <th>atemp</th>\n",
              "      <th>hum</th>\n",
              "      <th>windspeed</th>\n",
              "      <th>casual</th>\n",
              "      <th>registered</th>\n",
              "      <th>cnt</th>\n",
              "    </tr>\n",
              "  </thead>\n",
              "  <tbody>\n",
              "    <tr>\n",
              "      <th>0</th>\n",
              "      <td>1</td>\n",
              "      <td>2011-01-01</td>\n",
              "      <td>1</td>\n",
              "      <td>0</td>\n",
              "      <td>1</td>\n",
              "      <td>0</td>\n",
              "      <td>0</td>\n",
              "      <td>6</td>\n",
              "      <td>0</td>\n",
              "      <td>1</td>\n",
              "      <td>0.24</td>\n",
              "      <td>0.2879</td>\n",
              "      <td>0.81</td>\n",
              "      <td>0.0</td>\n",
              "      <td>3</td>\n",
              "      <td>13</td>\n",
              "      <td>16</td>\n",
              "    </tr>\n",
              "    <tr>\n",
              "      <th>1</th>\n",
              "      <td>2</td>\n",
              "      <td>2011-01-01</td>\n",
              "      <td>1</td>\n",
              "      <td>0</td>\n",
              "      <td>1</td>\n",
              "      <td>1</td>\n",
              "      <td>0</td>\n",
              "      <td>6</td>\n",
              "      <td>0</td>\n",
              "      <td>1</td>\n",
              "      <td>0.22</td>\n",
              "      <td>0.2727</td>\n",
              "      <td>0.80</td>\n",
              "      <td>0.0</td>\n",
              "      <td>8</td>\n",
              "      <td>32</td>\n",
              "      <td>40</td>\n",
              "    </tr>\n",
              "    <tr>\n",
              "      <th>2</th>\n",
              "      <td>3</td>\n",
              "      <td>2011-01-01</td>\n",
              "      <td>1</td>\n",
              "      <td>0</td>\n",
              "      <td>1</td>\n",
              "      <td>2</td>\n",
              "      <td>0</td>\n",
              "      <td>6</td>\n",
              "      <td>0</td>\n",
              "      <td>1</td>\n",
              "      <td>0.22</td>\n",
              "      <td>0.2727</td>\n",
              "      <td>0.80</td>\n",
              "      <td>0.0</td>\n",
              "      <td>5</td>\n",
              "      <td>27</td>\n",
              "      <td>32</td>\n",
              "    </tr>\n",
              "    <tr>\n",
              "      <th>3</th>\n",
              "      <td>4</td>\n",
              "      <td>2011-01-01</td>\n",
              "      <td>1</td>\n",
              "      <td>0</td>\n",
              "      <td>1</td>\n",
              "      <td>3</td>\n",
              "      <td>0</td>\n",
              "      <td>6</td>\n",
              "      <td>0</td>\n",
              "      <td>1</td>\n",
              "      <td>0.24</td>\n",
              "      <td>0.2879</td>\n",
              "      <td>0.75</td>\n",
              "      <td>0.0</td>\n",
              "      <td>3</td>\n",
              "      <td>10</td>\n",
              "      <td>13</td>\n",
              "    </tr>\n",
              "    <tr>\n",
              "      <th>4</th>\n",
              "      <td>5</td>\n",
              "      <td>2011-01-01</td>\n",
              "      <td>1</td>\n",
              "      <td>0</td>\n",
              "      <td>1</td>\n",
              "      <td>4</td>\n",
              "      <td>0</td>\n",
              "      <td>6</td>\n",
              "      <td>0</td>\n",
              "      <td>1</td>\n",
              "      <td>0.24</td>\n",
              "      <td>0.2879</td>\n",
              "      <td>0.75</td>\n",
              "      <td>0.0</td>\n",
              "      <td>0</td>\n",
              "      <td>1</td>\n",
              "      <td>1</td>\n",
              "    </tr>\n",
              "  </tbody>\n",
              "</table>\n",
              "</div>"
            ],
            "text/plain": [
              "   instant      dteday  season  yr  mnth  hr  holiday  weekday  workingday  \\\n",
              "0        1  2011-01-01       1   0     1   0        0        6           0   \n",
              "1        2  2011-01-01       1   0     1   1        0        6           0   \n",
              "2        3  2011-01-01       1   0     1   2        0        6           0   \n",
              "3        4  2011-01-01       1   0     1   3        0        6           0   \n",
              "4        5  2011-01-01       1   0     1   4        0        6           0   \n",
              "\n",
              "   weathersit  temp   atemp   hum  windspeed  casual  registered  cnt  \n",
              "0           1  0.24  0.2879  0.81        0.0       3          13   16  \n",
              "1           1  0.22  0.2727  0.80        0.0       8          32   40  \n",
              "2           1  0.22  0.2727  0.80        0.0       5          27   32  \n",
              "3           1  0.24  0.2879  0.75        0.0       3          10   13  \n",
              "4           1  0.24  0.2879  0.75        0.0       0           1    1  "
            ]
          },
          "execution_count": 100,
          "metadata": {},
          "output_type": "execute_result"
        }
      ],
      "source": [
        "total_rows, total_attributes = df_hour.shape\n",
        "print('Jumlah data:', total_rows)\n",
        "print(\"Jumlah atribut:\", total_attributes)\n",
        "\n",
        "df_hour.head()"
      ]
    },
    {
      "cell_type": "markdown",
      "metadata": {
        "id": "kfZ88zHonXYO"
      },
      "source": [
        "#### Cek duplicate, missing values, descriptive statistics, tipe data dan outlier pada dataset day.csv"
      ]
    },
    {
      "cell_type": "code",
      "execution_count": 101,
      "metadata": {
        "colab": {
          "base_uri": "https://localhost:8080/"
        },
        "id": "jVnYpprE9Evz",
        "outputId": "efb626c5-0171-446e-b3b2-0af492e21d26"
      },
      "outputs": [
        {
          "name": "stdout",
          "output_type": "stream",
          "text": [
            "Total data duplikat adalah: 0 Data\n"
          ]
        }
      ],
      "source": [
        "print(\"Total data duplikat adalah: \" + str(df_day.duplicated().sum()) + \" Data\")"
      ]
    },
    {
      "cell_type": "code",
      "execution_count": 102,
      "metadata": {
        "colab": {
          "base_uri": "https://localhost:8080/"
        },
        "id": "9ZwqhqiRneT_",
        "outputId": "320740bc-805f-4ab9-fe33-ff4a397763a4"
      },
      "outputs": [
        {
          "name": "stdout",
          "output_type": "stream",
          "text": [
            "Missing Values:instant       0\n",
            "dteday        0\n",
            "season        0\n",
            "yr            0\n",
            "mnth          0\n",
            "holiday       0\n",
            "weekday       0\n",
            "workingday    0\n",
            "weathersit    0\n",
            "temp          0\n",
            "atemp         0\n",
            "hum           0\n",
            "windspeed     0\n",
            "casual        0\n",
            "registered    0\n",
            "cnt           0\n",
            "dtype: int64\n"
          ]
        }
      ],
      "source": [
        "missing_values = df_day.isnull().sum()\n",
        "print(\"Missing Values:\" + str(missing_values))"
      ]
    },
    {
      "cell_type": "code",
      "execution_count": 103,
      "metadata": {
        "colab": {
          "base_uri": "https://localhost:8080/"
        },
        "id": "WwhqpL8Do-5R",
        "outputId": "dfcfeb34-9b0c-4498-a0ee-28244100d30a"
      },
      "outputs": [
        {
          "name": "stdout",
          "output_type": "stream",
          "text": [
            "<class 'pandas.core.frame.DataFrame'>\n",
            "RangeIndex: 731 entries, 0 to 730\n",
            "Data columns (total 16 columns):\n",
            " #   Column      Non-Null Count  Dtype  \n",
            "---  ------      --------------  -----  \n",
            " 0   instant     731 non-null    int64  \n",
            " 1   dteday      731 non-null    object \n",
            " 2   season      731 non-null    int64  \n",
            " 3   yr          731 non-null    int64  \n",
            " 4   mnth        731 non-null    int64  \n",
            " 5   holiday     731 non-null    int64  \n",
            " 6   weekday     731 non-null    int64  \n",
            " 7   workingday  731 non-null    int64  \n",
            " 8   weathersit  731 non-null    int64  \n",
            " 9   temp        731 non-null    float64\n",
            " 10  atemp       731 non-null    float64\n",
            " 11  hum         731 non-null    float64\n",
            " 12  windspeed   731 non-null    float64\n",
            " 13  casual      731 non-null    int64  \n",
            " 14  registered  731 non-null    int64  \n",
            " 15  cnt         731 non-null    int64  \n",
            "dtypes: float64(4), int64(11), object(1)\n",
            "memory usage: 91.5+ KB\n"
          ]
        }
      ],
      "source": [
        "df_day.info()"
      ]
    },
    {
      "cell_type": "code",
      "execution_count": 104,
      "metadata": {
        "id": "S4Bap2BIwu9C"
      },
      "outputs": [],
      "source": [
        "def count_outliers(data, columns):\n",
        "    outlier_counts = {}\n",
        "\n",
        "    for column in columns:\n",
        "        Q1 = data[column].quantile(0.25)\n",
        "        Q3 = data[column].quantile(0.75)\n",
        "        IQR = Q3 - Q1\n",
        "        lower_bound = Q1 - 1.5 * IQR\n",
        "        upper_bound = Q3 + 1.5 * IQR\n",
        "        column_outliers = data[(data[column] < lower_bound) | (data[column] > upper_bound)]\n",
        "        outlier_counts[column] = len(column_outliers)\n",
        "    return outlier_counts"
      ]
    },
    {
      "cell_type": "code",
      "execution_count": 105,
      "metadata": {
        "id": "7ICfGNpZyTTf"
      },
      "outputs": [],
      "source": [
        "def percentage_of_outliers(data, columns):\n",
        "    outlier_percentages = {}\n",
        "\n",
        "    for column in columns:\n",
        "        Q1 = data[column].quantile(0.25)\n",
        "        Q3 = data[column].quantile(0.75)\n",
        "        IQR = Q3 - Q1\n",
        "        lower_bound = Q1 - 1.5 * IQR\n",
        "        upper_bound = Q3 + 1.5 * IQR\n",
        "        column_outliers = data[(data[column] < lower_bound) | (data[column] > upper_bound)]\n",
        "        percentage_outliers = (len(column_outliers) / len(data)) * 100\n",
        "        outlier_percentages[column] = percentage_outliers\n",
        "    return outlier_percentages"
      ]
    },
    {
      "cell_type": "code",
      "execution_count": 106,
      "metadata": {
        "colab": {
          "base_uri": "https://localhost:8080/"
        },
        "id": "A0jfBwRmwzr3",
        "outputId": "d22e57d0-4e34-4aea-88f4-deceb04ab142"
      },
      "outputs": [
        {
          "name": "stdout",
          "output_type": "stream",
          "text": [
            "Outliers in each columns:\n",
            "{'temp': 0, 'atemp': 0, 'hum': 2, 'windspeed': 13, 'casual': 44, 'registered': 0, 'cnt': 0}\n"
          ]
        }
      ],
      "source": [
        "int_columns = ['temp', 'atemp', 'hum', 'windspeed', 'casual', 'registered', 'cnt']\n",
        "\n",
        "outliers_df = count_outliers(df_day, int_columns)\n",
        "\n",
        "print(\"Outliers in each columns:\")\n",
        "print(outliers_df)"
      ]
    },
    {
      "cell_type": "code",
      "execution_count": 107,
      "metadata": {
        "colab": {
          "base_uri": "https://localhost:8080/"
        },
        "id": "5AFCNponybhR",
        "outputId": "a1dd045a-38be-40c6-ec8d-8396e2c14d51"
      },
      "outputs": [
        {
          "name": "stdout",
          "output_type": "stream",
          "text": [
            "Percentage of Outliers in each Columns:\n",
            "temp: 0.00%\n",
            "atemp: 0.00%\n",
            "hum: 0.27%\n",
            "windspeed: 1.78%\n",
            "casual: 6.02%\n",
            "registered: 0.00%\n",
            "cnt: 0.00%\n"
          ]
        }
      ],
      "source": [
        "outlier_percentages_dict = percentage_of_outliers(df_day, int_columns)\n",
        "\n",
        "print(\"Percentage of Outliers in each Columns:\")\n",
        "for column, percentage in outlier_percentages_dict.items():\n",
        "    print(f\"{column}: {percentage:.2f}%\")"
      ]
    },
    {
      "cell_type": "markdown",
      "metadata": {
        "id": "fdN_JADiogU-"
      },
      "source": [
        "#### Cek duplicate, missing values, descriptive statistics, tipe data dan outlier pada dataset hour.csv"
      ]
    },
    {
      "cell_type": "code",
      "execution_count": 108,
      "metadata": {
        "colab": {
          "base_uri": "https://localhost:8080/"
        },
        "id": "7ax-c2O_PrXw",
        "outputId": "e7b0b86c-20f5-48e9-9fb6-8df42ab4cda5"
      },
      "outputs": [
        {
          "name": "stdout",
          "output_type": "stream",
          "text": [
            "Total data duplikat adalah: 0 Data\n"
          ]
        }
      ],
      "source": [
        "print(\"Total data duplikat adalah: \" + str(df_hour.duplicated().sum()) + \" Data\")"
      ]
    },
    {
      "cell_type": "code",
      "execution_count": 109,
      "metadata": {
        "colab": {
          "base_uri": "https://localhost:8080/"
        },
        "id": "zDv03vGmn1T3",
        "outputId": "8ed1c027-1618-4a05-8281-d2908b01240f"
      },
      "outputs": [
        {
          "name": "stdout",
          "output_type": "stream",
          "text": [
            "Missing Values:instant       0\n",
            "dteday        0\n",
            "season        0\n",
            "yr            0\n",
            "mnth          0\n",
            "hr            0\n",
            "holiday       0\n",
            "weekday       0\n",
            "workingday    0\n",
            "weathersit    0\n",
            "temp          0\n",
            "atemp         0\n",
            "hum           0\n",
            "windspeed     0\n",
            "casual        0\n",
            "registered    0\n",
            "cnt           0\n",
            "dtype: int64\n"
          ]
        }
      ],
      "source": [
        "missing_values = df_hour.isnull().sum()\n",
        "print(\"Missing Values:\" + str(missing_values))"
      ]
    },
    {
      "cell_type": "code",
      "execution_count": 110,
      "metadata": {
        "colab": {
          "base_uri": "https://localhost:8080/"
        },
        "id": "zBxD_-FEpDq3",
        "outputId": "b4ef31de-9fa0-4eab-d09c-6f59c746db5d"
      },
      "outputs": [
        {
          "name": "stdout",
          "output_type": "stream",
          "text": [
            "<class 'pandas.core.frame.DataFrame'>\n",
            "RangeIndex: 17379 entries, 0 to 17378\n",
            "Data columns (total 17 columns):\n",
            " #   Column      Non-Null Count  Dtype  \n",
            "---  ------      --------------  -----  \n",
            " 0   instant     17379 non-null  int64  \n",
            " 1   dteday      17379 non-null  object \n",
            " 2   season      17379 non-null  int64  \n",
            " 3   yr          17379 non-null  int64  \n",
            " 4   mnth        17379 non-null  int64  \n",
            " 5   hr          17379 non-null  int64  \n",
            " 6   holiday     17379 non-null  int64  \n",
            " 7   weekday     17379 non-null  int64  \n",
            " 8   workingday  17379 non-null  int64  \n",
            " 9   weathersit  17379 non-null  int64  \n",
            " 10  temp        17379 non-null  float64\n",
            " 11  atemp       17379 non-null  float64\n",
            " 12  hum         17379 non-null  float64\n",
            " 13  windspeed   17379 non-null  float64\n",
            " 14  casual      17379 non-null  int64  \n",
            " 15  registered  17379 non-null  int64  \n",
            " 16  cnt         17379 non-null  int64  \n",
            "dtypes: float64(4), int64(12), object(1)\n",
            "memory usage: 2.3+ MB\n"
          ]
        }
      ],
      "source": [
        "df_hour.info()"
      ]
    },
    {
      "cell_type": "code",
      "execution_count": 111,
      "metadata": {
        "colab": {
          "base_uri": "https://localhost:8080/"
        },
        "id": "C5XXlPPXvnyO",
        "outputId": "86832c5a-9de5-49ec-e448-8df30772dc9c"
      },
      "outputs": [
        {
          "name": "stdout",
          "output_type": "stream",
          "text": [
            "Outliers in each columns:\n",
            "{'temp': 0, 'atemp': 0, 'hum': 22, 'windspeed': 342, 'casual': 1192, 'registered': 680, 'cnt': 505}\n"
          ]
        }
      ],
      "source": [
        "outliers_df = count_outliers(df_hour, int_columns)\n",
        "\n",
        "print(\"Outliers in each columns:\")\n",
        "print(outliers_df)"
      ]
    },
    {
      "cell_type": "code",
      "execution_count": 112,
      "metadata": {
        "colab": {
          "base_uri": "https://localhost:8080/"
        },
        "id": "35HH_nTzysys",
        "outputId": "09ad0968-ebed-4054-b7fd-6cbdb962ee9c"
      },
      "outputs": [
        {
          "name": "stdout",
          "output_type": "stream",
          "text": [
            "Percentage of Outliers in each Columns:\n",
            "temp: 0.00%\n",
            "atemp: 0.00%\n",
            "hum: 0.13%\n",
            "windspeed: 1.97%\n",
            "casual: 6.86%\n",
            "registered: 3.91%\n",
            "cnt: 2.91%\n"
          ]
        }
      ],
      "source": [
        "outlier_percentages_dict = percentage_of_outliers(df_hour, int_columns)\n",
        "\n",
        "print(\"Percentage of Outliers in each Columns:\")\n",
        "for column, percentage in outlier_percentages_dict.items():\n",
        "    print(f\"{column}: {percentage:.2f}%\")"
      ]
    },
    {
      "cell_type": "markdown",
      "metadata": {
        "id": "EhN5R4hr8DC1"
      },
      "source": [
        "### Cleaning Data"
      ]
    },
    {
      "cell_type": "markdown",
      "metadata": {
        "id": "369p50hiopDH"
      },
      "source": [
        "##### Dari data yang telah dikumpulkan terlihat pada dataset tidak terdapat duplicate data dan missing values tetapi terdapat outlier sehingga pada tahap ini kita akan clean data untuk outlier dengan metode log transformation"
      ]
    },
    {
      "cell_type": "code",
      "execution_count": 113,
      "metadata": {
        "id": "AjBtJUjjzwPz"
      },
      "outputs": [],
      "source": [
        "hour_outlier_columns = ['hum', 'windspeed', 'casual', 'registered', 'cnt']\n",
        "day_outlier_columns = ['hum', 'windspeed', 'casual']\n",
        "\n",
        "def handle_outliers_with_transformation(data, columns):\n",
        "    transformed_data = data.copy()\n",
        "    for column in columns:\n",
        "        transformed_data[column] = np.log1p(transformed_data[column])\n",
        "\n",
        "    return transformed_data"
      ]
    },
    {
      "cell_type": "code",
      "execution_count": 114,
      "metadata": {
        "colab": {
          "base_uri": "https://localhost:8080/"
        },
        "id": "VUwKQJqB6nCo",
        "outputId": "4a6331ea-b97d-43ed-d900-2e81b8e9aa75"
      },
      "outputs": [
        {
          "name": "stdout",
          "output_type": "stream",
          "text": [
            "Percentage of Outliers in Continuous Columns:\n",
            "hum: 0.27%\n",
            "windspeed: 1.37%\n",
            "casual: 1.92%\n"
          ]
        }
      ],
      "source": [
        "transformed_data_day = handle_outliers_with_transformation(df_day, day_outlier_columns)\n",
        "outlier_percentages_dict = percentage_of_outliers(transformed_data_day, day_outlier_columns)\n",
        "\n",
        "print(\"Percentage of Outliers in Continuous Columns:\")\n",
        "for column, percentage in outlier_percentages_dict.items():\n",
        "    print(f\"{column}: {percentage:.2f}%\")"
      ]
    },
    {
      "cell_type": "code",
      "execution_count": 115,
      "metadata": {
        "colab": {
          "base_uri": "https://localhost:8080/"
        },
        "id": "dnmwaVMlz2ig",
        "outputId": "8fb4e3ba-363f-49d0-f946-9bf80de31484"
      },
      "outputs": [
        {
          "name": "stdout",
          "output_type": "stream",
          "text": [
            "Percentage of Outliers in Continuous Columns:\n",
            "hum: 0.14%\n",
            "windspeed: 1.32%\n",
            "casual: 0.00%\n",
            "registered: 1.29%\n",
            "cnt: 0.91%\n"
          ]
        }
      ],
      "source": [
        "transformed_data_hour = handle_outliers_with_transformation(df_hour, hour_outlier_columns)\n",
        "outlier_percentages_dict = percentage_of_outliers(transformed_data_hour, hour_outlier_columns)\n",
        "\n",
        "print(\"Percentage of Outliers in Continuous Columns:\")\n",
        "for column, percentage in outlier_percentages_dict.items():\n",
        "    print(f\"{column}: {percentage:.2f}%\")"
      ]
    },
    {
      "cell_type": "markdown",
      "metadata": {
        "id": "dyYE3Au3EW70"
      },
      "source": [
        "##### Dapat dilihat data sudah mendingan dan persentase outlier untuk dataset hour.csv dan day.csv lebih membaik walaupun masih ada beberapa yang diatas 1% tetapi tidak melebihi 2%"
      ]
    },
    {
      "cell_type": "markdown",
      "metadata": {
        "id": "gp-Y6wU38DC1"
      },
      "source": [
        "## Exploratory Data Analysis (EDA)"
      ]
    },
    {
      "cell_type": "markdown",
      "metadata": {
        "id": "MW7WF2kr8DC1"
      },
      "source": [
        "### Explore ..."
      ]
    },
    {
      "cell_type": "code",
      "execution_count": 116,
      "metadata": {
        "colab": {
          "base_uri": "https://localhost:8080/",
          "height": 320
        },
        "id": "z4GG6NK-_KFJ",
        "outputId": "61f9bc87-f451-4e65-fd49-264e5bb3ad9e"
      },
      "outputs": [
        {
          "data": {
            "text/html": [
              "<div>\n",
              "<style scoped>\n",
              "    .dataframe tbody tr th:only-of-type {\n",
              "        vertical-align: middle;\n",
              "    }\n",
              "\n",
              "    .dataframe tbody tr th {\n",
              "        vertical-align: top;\n",
              "    }\n",
              "\n",
              "    .dataframe thead th {\n",
              "        text-align: right;\n",
              "    }\n",
              "</style>\n",
              "<table border=\"1\" class=\"dataframe\">\n",
              "  <thead>\n",
              "    <tr style=\"text-align: right;\">\n",
              "      <th></th>\n",
              "      <th>instant</th>\n",
              "      <th>season</th>\n",
              "      <th>yr</th>\n",
              "      <th>mnth</th>\n",
              "      <th>holiday</th>\n",
              "      <th>weekday</th>\n",
              "      <th>workingday</th>\n",
              "      <th>weathersit</th>\n",
              "      <th>temp</th>\n",
              "      <th>atemp</th>\n",
              "      <th>hum</th>\n",
              "      <th>windspeed</th>\n",
              "      <th>casual</th>\n",
              "      <th>registered</th>\n",
              "      <th>cnt</th>\n",
              "    </tr>\n",
              "  </thead>\n",
              "  <tbody>\n",
              "    <tr>\n",
              "      <th>count</th>\n",
              "      <td>731.000000</td>\n",
              "      <td>731.000000</td>\n",
              "      <td>731.000000</td>\n",
              "      <td>731.000000</td>\n",
              "      <td>731.000000</td>\n",
              "      <td>731.000000</td>\n",
              "      <td>731.000000</td>\n",
              "      <td>731.000000</td>\n",
              "      <td>731.000000</td>\n",
              "      <td>731.000000</td>\n",
              "      <td>731.000000</td>\n",
              "      <td>731.000000</td>\n",
              "      <td>731.000000</td>\n",
              "      <td>731.000000</td>\n",
              "      <td>731.000000</td>\n",
              "    </tr>\n",
              "    <tr>\n",
              "      <th>mean</th>\n",
              "      <td>366.000000</td>\n",
              "      <td>2.496580</td>\n",
              "      <td>0.500684</td>\n",
              "      <td>6.519836</td>\n",
              "      <td>0.028728</td>\n",
              "      <td>2.997264</td>\n",
              "      <td>0.683995</td>\n",
              "      <td>1.395349</td>\n",
              "      <td>0.495385</td>\n",
              "      <td>0.474354</td>\n",
              "      <td>0.483402</td>\n",
              "      <td>0.172294</td>\n",
              "      <td>6.351648</td>\n",
              "      <td>3656.172367</td>\n",
              "      <td>4504.348837</td>\n",
              "    </tr>\n",
              "    <tr>\n",
              "      <th>std</th>\n",
              "      <td>211.165812</td>\n",
              "      <td>1.110807</td>\n",
              "      <td>0.500342</td>\n",
              "      <td>3.451913</td>\n",
              "      <td>0.167155</td>\n",
              "      <td>2.004787</td>\n",
              "      <td>0.465233</td>\n",
              "      <td>0.544894</td>\n",
              "      <td>0.183051</td>\n",
              "      <td>0.162961</td>\n",
              "      <td>0.088669</td>\n",
              "      <td>0.064017</td>\n",
              "      <td>1.010713</td>\n",
              "      <td>1560.256377</td>\n",
              "      <td>1937.211452</td>\n",
              "    </tr>\n",
              "    <tr>\n",
              "      <th>min</th>\n",
              "      <td>1.000000</td>\n",
              "      <td>1.000000</td>\n",
              "      <td>0.000000</td>\n",
              "      <td>1.000000</td>\n",
              "      <td>0.000000</td>\n",
              "      <td>0.000000</td>\n",
              "      <td>0.000000</td>\n",
              "      <td>1.000000</td>\n",
              "      <td>0.059130</td>\n",
              "      <td>0.079070</td>\n",
              "      <td>0.000000</td>\n",
              "      <td>0.022145</td>\n",
              "      <td>1.098612</td>\n",
              "      <td>20.000000</td>\n",
              "      <td>22.000000</td>\n",
              "    </tr>\n",
              "    <tr>\n",
              "      <th>25%</th>\n",
              "      <td>183.500000</td>\n",
              "      <td>2.000000</td>\n",
              "      <td>0.000000</td>\n",
              "      <td>4.000000</td>\n",
              "      <td>0.000000</td>\n",
              "      <td>1.000000</td>\n",
              "      <td>0.000000</td>\n",
              "      <td>1.000000</td>\n",
              "      <td>0.337083</td>\n",
              "      <td>0.337842</td>\n",
              "      <td>0.418710</td>\n",
              "      <td>0.126589</td>\n",
              "      <td>5.757322</td>\n",
              "      <td>2497.000000</td>\n",
              "      <td>3152.000000</td>\n",
              "    </tr>\n",
              "    <tr>\n",
              "      <th>50%</th>\n",
              "      <td>366.000000</td>\n",
              "      <td>3.000000</td>\n",
              "      <td>1.000000</td>\n",
              "      <td>7.000000</td>\n",
              "      <td>0.000000</td>\n",
              "      <td>3.000000</td>\n",
              "      <td>1.000000</td>\n",
              "      <td>1.000000</td>\n",
              "      <td>0.498333</td>\n",
              "      <td>0.486733</td>\n",
              "      <td>0.486533</td>\n",
              "      <td>0.166340</td>\n",
              "      <td>6.570883</td>\n",
              "      <td>3662.000000</td>\n",
              "      <td>4548.000000</td>\n",
              "    </tr>\n",
              "    <tr>\n",
              "      <th>75%</th>\n",
              "      <td>548.500000</td>\n",
              "      <td>3.000000</td>\n",
              "      <td>1.000000</td>\n",
              "      <td>10.000000</td>\n",
              "      <td>0.000000</td>\n",
              "      <td>5.000000</td>\n",
              "      <td>1.000000</td>\n",
              "      <td>2.000000</td>\n",
              "      <td>0.655417</td>\n",
              "      <td>0.608602</td>\n",
              "      <td>0.548242</td>\n",
              "      <td>0.209624</td>\n",
              "      <td>7.000334</td>\n",
              "      <td>4776.500000</td>\n",
              "      <td>5956.000000</td>\n",
              "    </tr>\n",
              "    <tr>\n",
              "      <th>max</th>\n",
              "      <td>731.000000</td>\n",
              "      <td>4.000000</td>\n",
              "      <td>1.000000</td>\n",
              "      <td>12.000000</td>\n",
              "      <td>1.000000</td>\n",
              "      <td>6.000000</td>\n",
              "      <td>1.000000</td>\n",
              "      <td>3.000000</td>\n",
              "      <td>0.861667</td>\n",
              "      <td>0.840896</td>\n",
              "      <td>0.679302</td>\n",
              "      <td>0.410428</td>\n",
              "      <td>8.134761</td>\n",
              "      <td>6946.000000</td>\n",
              "      <td>8714.000000</td>\n",
              "    </tr>\n",
              "  </tbody>\n",
              "</table>\n",
              "</div>"
            ],
            "text/plain": [
              "          instant      season          yr        mnth     holiday     weekday  \\\n",
              "count  731.000000  731.000000  731.000000  731.000000  731.000000  731.000000   \n",
              "mean   366.000000    2.496580    0.500684    6.519836    0.028728    2.997264   \n",
              "std    211.165812    1.110807    0.500342    3.451913    0.167155    2.004787   \n",
              "min      1.000000    1.000000    0.000000    1.000000    0.000000    0.000000   \n",
              "25%    183.500000    2.000000    0.000000    4.000000    0.000000    1.000000   \n",
              "50%    366.000000    3.000000    1.000000    7.000000    0.000000    3.000000   \n",
              "75%    548.500000    3.000000    1.000000   10.000000    0.000000    5.000000   \n",
              "max    731.000000    4.000000    1.000000   12.000000    1.000000    6.000000   \n",
              "\n",
              "       workingday  weathersit        temp       atemp         hum   windspeed  \\\n",
              "count  731.000000  731.000000  731.000000  731.000000  731.000000  731.000000   \n",
              "mean     0.683995    1.395349    0.495385    0.474354    0.483402    0.172294   \n",
              "std      0.465233    0.544894    0.183051    0.162961    0.088669    0.064017   \n",
              "min      0.000000    1.000000    0.059130    0.079070    0.000000    0.022145   \n",
              "25%      0.000000    1.000000    0.337083    0.337842    0.418710    0.126589   \n",
              "50%      1.000000    1.000000    0.498333    0.486733    0.486533    0.166340   \n",
              "75%      1.000000    2.000000    0.655417    0.608602    0.548242    0.209624   \n",
              "max      1.000000    3.000000    0.861667    0.840896    0.679302    0.410428   \n",
              "\n",
              "           casual   registered          cnt  \n",
              "count  731.000000   731.000000   731.000000  \n",
              "mean     6.351648  3656.172367  4504.348837  \n",
              "std      1.010713  1560.256377  1937.211452  \n",
              "min      1.098612    20.000000    22.000000  \n",
              "25%      5.757322  2497.000000  3152.000000  \n",
              "50%      6.570883  3662.000000  4548.000000  \n",
              "75%      7.000334  4776.500000  5956.000000  \n",
              "max      8.134761  6946.000000  8714.000000  "
            ]
          },
          "execution_count": 116,
          "metadata": {},
          "output_type": "execute_result"
        }
      ],
      "source": [
        "transformed_data_day.describe()"
      ]
    },
    {
      "cell_type": "code",
      "execution_count": 117,
      "metadata": {
        "colab": {
          "base_uri": "https://localhost:8080/",
          "height": 269
        },
        "id": "VajRAqGb_iSu",
        "outputId": "da414706-f433-4f07-84d3-576077ba023a"
      },
      "outputs": [
        {
          "data": {
            "text/html": [
              "<div>\n",
              "<style scoped>\n",
              "    .dataframe tbody tr th:only-of-type {\n",
              "        vertical-align: middle;\n",
              "    }\n",
              "\n",
              "    .dataframe tbody tr th {\n",
              "        vertical-align: top;\n",
              "    }\n",
              "\n",
              "    .dataframe thead th {\n",
              "        text-align: right;\n",
              "    }\n",
              "</style>\n",
              "<table border=\"1\" class=\"dataframe\">\n",
              "  <thead>\n",
              "    <tr style=\"text-align: right;\">\n",
              "      <th></th>\n",
              "      <th>temp</th>\n",
              "      <th>atemp</th>\n",
              "      <th>hum</th>\n",
              "      <th>windspeed</th>\n",
              "      <th>casual</th>\n",
              "      <th>registered</th>\n",
              "      <th>cnt</th>\n",
              "    </tr>\n",
              "  </thead>\n",
              "  <tbody>\n",
              "    <tr>\n",
              "      <th>temp</th>\n",
              "      <td>1.000000</td>\n",
              "      <td>0.991702</td>\n",
              "      <td>0.135062</td>\n",
              "      <td>-0.153521</td>\n",
              "      <td>0.670994</td>\n",
              "      <td>0.540012</td>\n",
              "      <td>0.627494</td>\n",
              "    </tr>\n",
              "    <tr>\n",
              "      <th>atemp</th>\n",
              "      <td>0.991702</td>\n",
              "      <td>1.000000</td>\n",
              "      <td>0.148591</td>\n",
              "      <td>-0.179435</td>\n",
              "      <td>0.676579</td>\n",
              "      <td>0.544192</td>\n",
              "      <td>0.631066</td>\n",
              "    </tr>\n",
              "    <tr>\n",
              "      <th>hum</th>\n",
              "      <td>0.135062</td>\n",
              "      <td>0.148591</td>\n",
              "      <td>1.000000</td>\n",
              "      <td>-0.259656</td>\n",
              "      <td>-0.072623</td>\n",
              "      <td>-0.074533</td>\n",
              "      <td>-0.083913</td>\n",
              "    </tr>\n",
              "    <tr>\n",
              "      <th>windspeed</th>\n",
              "      <td>-0.153521</td>\n",
              "      <td>-0.179435</td>\n",
              "      <td>-0.259656</td>\n",
              "      <td>1.000000</td>\n",
              "      <td>-0.200555</td>\n",
              "      <td>-0.215673</td>\n",
              "      <td>-0.231894</td>\n",
              "    </tr>\n",
              "    <tr>\n",
              "      <th>casual</th>\n",
              "      <td>0.670994</td>\n",
              "      <td>0.676579</td>\n",
              "      <td>-0.072623</td>\n",
              "      <td>-0.200555</td>\n",
              "      <td>1.000000</td>\n",
              "      <td>0.567907</td>\n",
              "      <td>0.760096</td>\n",
              "    </tr>\n",
              "    <tr>\n",
              "      <th>registered</th>\n",
              "      <td>0.540012</td>\n",
              "      <td>0.544192</td>\n",
              "      <td>-0.074533</td>\n",
              "      <td>-0.215673</td>\n",
              "      <td>0.567907</td>\n",
              "      <td>1.000000</td>\n",
              "      <td>0.945517</td>\n",
              "    </tr>\n",
              "    <tr>\n",
              "      <th>cnt</th>\n",
              "      <td>0.627494</td>\n",
              "      <td>0.631066</td>\n",
              "      <td>-0.083913</td>\n",
              "      <td>-0.231894</td>\n",
              "      <td>0.760096</td>\n",
              "      <td>0.945517</td>\n",
              "      <td>1.000000</td>\n",
              "    </tr>\n",
              "  </tbody>\n",
              "</table>\n",
              "</div>"
            ],
            "text/plain": [
              "                temp     atemp       hum  windspeed    casual  registered  \\\n",
              "temp        1.000000  0.991702  0.135062  -0.153521  0.670994    0.540012   \n",
              "atemp       0.991702  1.000000  0.148591  -0.179435  0.676579    0.544192   \n",
              "hum         0.135062  0.148591  1.000000  -0.259656 -0.072623   -0.074533   \n",
              "windspeed  -0.153521 -0.179435 -0.259656   1.000000 -0.200555   -0.215673   \n",
              "casual      0.670994  0.676579 -0.072623  -0.200555  1.000000    0.567907   \n",
              "registered  0.540012  0.544192 -0.074533  -0.215673  0.567907    1.000000   \n",
              "cnt         0.627494  0.631066 -0.083913  -0.231894  0.760096    0.945517   \n",
              "\n",
              "                 cnt  \n",
              "temp        0.627494  \n",
              "atemp       0.631066  \n",
              "hum        -0.083913  \n",
              "windspeed  -0.231894  \n",
              "casual      0.760096  \n",
              "registered  0.945517  \n",
              "cnt         1.000000  "
            ]
          },
          "execution_count": 117,
          "metadata": {},
          "output_type": "execute_result"
        }
      ],
      "source": [
        "transformed_data_day[int_columns].corr()"
      ]
    },
    {
      "cell_type": "code",
      "execution_count": 118,
      "metadata": {
        "colab": {
          "base_uri": "https://localhost:8080/",
          "height": 320
        },
        "id": "jvRhLHov-X6V",
        "outputId": "ac898bb2-e436-4d64-a41d-6f4f7b611538"
      },
      "outputs": [
        {
          "data": {
            "text/html": [
              "<div>\n",
              "<style scoped>\n",
              "    .dataframe tbody tr th:only-of-type {\n",
              "        vertical-align: middle;\n",
              "    }\n",
              "\n",
              "    .dataframe tbody tr th {\n",
              "        vertical-align: top;\n",
              "    }\n",
              "\n",
              "    .dataframe thead th {\n",
              "        text-align: right;\n",
              "    }\n",
              "</style>\n",
              "<table border=\"1\" class=\"dataframe\">\n",
              "  <thead>\n",
              "    <tr style=\"text-align: right;\">\n",
              "      <th></th>\n",
              "      <th>instant</th>\n",
              "      <th>season</th>\n",
              "      <th>yr</th>\n",
              "      <th>mnth</th>\n",
              "      <th>hr</th>\n",
              "      <th>holiday</th>\n",
              "      <th>weekday</th>\n",
              "      <th>workingday</th>\n",
              "      <th>weathersit</th>\n",
              "      <th>temp</th>\n",
              "      <th>atemp</th>\n",
              "      <th>hum</th>\n",
              "      <th>windspeed</th>\n",
              "      <th>casual</th>\n",
              "      <th>registered</th>\n",
              "      <th>cnt</th>\n",
              "    </tr>\n",
              "  </thead>\n",
              "  <tbody>\n",
              "    <tr>\n",
              "      <th>count</th>\n",
              "      <td>17379.0000</td>\n",
              "      <td>17379.000000</td>\n",
              "      <td>17379.000000</td>\n",
              "      <td>17379.000000</td>\n",
              "      <td>17379.000000</td>\n",
              "      <td>17379.000000</td>\n",
              "      <td>17379.000000</td>\n",
              "      <td>17379.000000</td>\n",
              "      <td>17379.000000</td>\n",
              "      <td>17379.000000</td>\n",
              "      <td>17379.000000</td>\n",
              "      <td>17379.000000</td>\n",
              "      <td>17379.000000</td>\n",
              "      <td>17379.000000</td>\n",
              "      <td>17379.000000</td>\n",
              "      <td>17379.000000</td>\n",
              "    </tr>\n",
              "    <tr>\n",
              "      <th>mean</th>\n",
              "      <td>8690.0000</td>\n",
              "      <td>2.501640</td>\n",
              "      <td>0.502561</td>\n",
              "      <td>6.537775</td>\n",
              "      <td>11.546752</td>\n",
              "      <td>0.028770</td>\n",
              "      <td>3.003683</td>\n",
              "      <td>0.682721</td>\n",
              "      <td>1.425283</td>\n",
              "      <td>0.496987</td>\n",
              "      <td>0.475775</td>\n",
              "      <td>0.479673</td>\n",
              "      <td>0.168871</td>\n",
              "      <td>2.706618</td>\n",
              "      <td>4.378018</td>\n",
              "      <td>4.574739</td>\n",
              "    </tr>\n",
              "    <tr>\n",
              "      <th>std</th>\n",
              "      <td>5017.0295</td>\n",
              "      <td>1.106918</td>\n",
              "      <td>0.500008</td>\n",
              "      <td>3.438776</td>\n",
              "      <td>6.914405</td>\n",
              "      <td>0.167165</td>\n",
              "      <td>2.005771</td>\n",
              "      <td>0.465431</td>\n",
              "      <td>0.639357</td>\n",
              "      <td>0.192556</td>\n",
              "      <td>0.171850</td>\n",
              "      <td>0.120919</td>\n",
              "      <td>0.101180</td>\n",
              "      <td>1.490040</td>\n",
              "      <td>1.398230</td>\n",
              "      <td>1.417869</td>\n",
              "    </tr>\n",
              "    <tr>\n",
              "      <th>min</th>\n",
              "      <td>1.0000</td>\n",
              "      <td>1.000000</td>\n",
              "      <td>0.000000</td>\n",
              "      <td>1.000000</td>\n",
              "      <td>0.000000</td>\n",
              "      <td>0.000000</td>\n",
              "      <td>0.000000</td>\n",
              "      <td>0.000000</td>\n",
              "      <td>1.000000</td>\n",
              "      <td>0.020000</td>\n",
              "      <td>0.000000</td>\n",
              "      <td>0.000000</td>\n",
              "      <td>0.000000</td>\n",
              "      <td>0.000000</td>\n",
              "      <td>0.000000</td>\n",
              "      <td>0.693147</td>\n",
              "    </tr>\n",
              "    <tr>\n",
              "      <th>25%</th>\n",
              "      <td>4345.5000</td>\n",
              "      <td>2.000000</td>\n",
              "      <td>0.000000</td>\n",
              "      <td>4.000000</td>\n",
              "      <td>6.000000</td>\n",
              "      <td>0.000000</td>\n",
              "      <td>1.000000</td>\n",
              "      <td>0.000000</td>\n",
              "      <td>1.000000</td>\n",
              "      <td>0.340000</td>\n",
              "      <td>0.333300</td>\n",
              "      <td>0.392042</td>\n",
              "      <td>0.099393</td>\n",
              "      <td>1.609438</td>\n",
              "      <td>3.555348</td>\n",
              "      <td>3.713572</td>\n",
              "    </tr>\n",
              "    <tr>\n",
              "      <th>50%</th>\n",
              "      <td>8690.0000</td>\n",
              "      <td>3.000000</td>\n",
              "      <td>1.000000</td>\n",
              "      <td>7.000000</td>\n",
              "      <td>12.000000</td>\n",
              "      <td>0.000000</td>\n",
              "      <td>3.000000</td>\n",
              "      <td>1.000000</td>\n",
              "      <td>1.000000</td>\n",
              "      <td>0.500000</td>\n",
              "      <td>0.484800</td>\n",
              "      <td>0.488580</td>\n",
              "      <td>0.177309</td>\n",
              "      <td>2.890372</td>\n",
              "      <td>4.753590</td>\n",
              "      <td>4.962845</td>\n",
              "    </tr>\n",
              "    <tr>\n",
              "      <th>75%</th>\n",
              "      <td>13034.5000</td>\n",
              "      <td>3.000000</td>\n",
              "      <td>1.000000</td>\n",
              "      <td>10.000000</td>\n",
              "      <td>18.000000</td>\n",
              "      <td>0.000000</td>\n",
              "      <td>5.000000</td>\n",
              "      <td>1.000000</td>\n",
              "      <td>2.000000</td>\n",
              "      <td>0.660000</td>\n",
              "      <td>0.621200</td>\n",
              "      <td>0.576613</td>\n",
              "      <td>0.226099</td>\n",
              "      <td>3.891820</td>\n",
              "      <td>5.398163</td>\n",
              "      <td>5.641907</td>\n",
              "    </tr>\n",
              "    <tr>\n",
              "      <th>max</th>\n",
              "      <td>17379.0000</td>\n",
              "      <td>4.000000</td>\n",
              "      <td>1.000000</td>\n",
              "      <td>12.000000</td>\n",
              "      <td>23.000000</td>\n",
              "      <td>1.000000</td>\n",
              "      <td>6.000000</td>\n",
              "      <td>1.000000</td>\n",
              "      <td>4.000000</td>\n",
              "      <td>1.000000</td>\n",
              "      <td>1.000000</td>\n",
              "      <td>0.693147</td>\n",
              "      <td>0.615564</td>\n",
              "      <td>5.908083</td>\n",
              "      <td>6.787845</td>\n",
              "      <td>6.885510</td>\n",
              "    </tr>\n",
              "  </tbody>\n",
              "</table>\n",
              "</div>"
            ],
            "text/plain": [
              "          instant        season            yr          mnth            hr  \\\n",
              "count  17379.0000  17379.000000  17379.000000  17379.000000  17379.000000   \n",
              "mean    8690.0000      2.501640      0.502561      6.537775     11.546752   \n",
              "std     5017.0295      1.106918      0.500008      3.438776      6.914405   \n",
              "min        1.0000      1.000000      0.000000      1.000000      0.000000   \n",
              "25%     4345.5000      2.000000      0.000000      4.000000      6.000000   \n",
              "50%     8690.0000      3.000000      1.000000      7.000000     12.000000   \n",
              "75%    13034.5000      3.000000      1.000000     10.000000     18.000000   \n",
              "max    17379.0000      4.000000      1.000000     12.000000     23.000000   \n",
              "\n",
              "            holiday       weekday    workingday    weathersit          temp  \\\n",
              "count  17379.000000  17379.000000  17379.000000  17379.000000  17379.000000   \n",
              "mean       0.028770      3.003683      0.682721      1.425283      0.496987   \n",
              "std        0.167165      2.005771      0.465431      0.639357      0.192556   \n",
              "min        0.000000      0.000000      0.000000      1.000000      0.020000   \n",
              "25%        0.000000      1.000000      0.000000      1.000000      0.340000   \n",
              "50%        0.000000      3.000000      1.000000      1.000000      0.500000   \n",
              "75%        0.000000      5.000000      1.000000      2.000000      0.660000   \n",
              "max        1.000000      6.000000      1.000000      4.000000      1.000000   \n",
              "\n",
              "              atemp           hum     windspeed        casual    registered  \\\n",
              "count  17379.000000  17379.000000  17379.000000  17379.000000  17379.000000   \n",
              "mean       0.475775      0.479673      0.168871      2.706618      4.378018   \n",
              "std        0.171850      0.120919      0.101180      1.490040      1.398230   \n",
              "min        0.000000      0.000000      0.000000      0.000000      0.000000   \n",
              "25%        0.333300      0.392042      0.099393      1.609438      3.555348   \n",
              "50%        0.484800      0.488580      0.177309      2.890372      4.753590   \n",
              "75%        0.621200      0.576613      0.226099      3.891820      5.398163   \n",
              "max        1.000000      0.693147      0.615564      5.908083      6.787845   \n",
              "\n",
              "                cnt  \n",
              "count  17379.000000  \n",
              "mean       4.574739  \n",
              "std        1.417869  \n",
              "min        0.693147  \n",
              "25%        3.713572  \n",
              "50%        4.962845  \n",
              "75%        5.641907  \n",
              "max        6.885510  "
            ]
          },
          "execution_count": 118,
          "metadata": {},
          "output_type": "execute_result"
        }
      ],
      "source": [
        "transformed_data_hour.describe()"
      ]
    },
    {
      "cell_type": "code",
      "execution_count": 119,
      "metadata": {
        "colab": {
          "base_uri": "https://localhost:8080/",
          "height": 269
        },
        "id": "hEdmtRKm_uAT",
        "outputId": "564191a8-1cdc-45dc-b2fe-fa7941b011e2"
      },
      "outputs": [
        {
          "data": {
            "text/html": [
              "<div>\n",
              "<style scoped>\n",
              "    .dataframe tbody tr th:only-of-type {\n",
              "        vertical-align: middle;\n",
              "    }\n",
              "\n",
              "    .dataframe tbody tr th {\n",
              "        vertical-align: top;\n",
              "    }\n",
              "\n",
              "    .dataframe thead th {\n",
              "        text-align: right;\n",
              "    }\n",
              "</style>\n",
              "<table border=\"1\" class=\"dataframe\">\n",
              "  <thead>\n",
              "    <tr style=\"text-align: right;\">\n",
              "      <th></th>\n",
              "      <th>temp</th>\n",
              "      <th>atemp</th>\n",
              "      <th>hum</th>\n",
              "      <th>windspeed</th>\n",
              "      <th>casual</th>\n",
              "      <th>registered</th>\n",
              "      <th>cnt</th>\n",
              "    </tr>\n",
              "  </thead>\n",
              "  <tbody>\n",
              "    <tr>\n",
              "      <th>temp</th>\n",
              "      <td>1.000000</td>\n",
              "      <td>0.987672</td>\n",
              "      <td>-0.069017</td>\n",
              "      <td>-0.018471</td>\n",
              "      <td>0.558111</td>\n",
              "      <td>0.346208</td>\n",
              "      <td>0.388694</td>\n",
              "    </tr>\n",
              "    <tr>\n",
              "      <th>atemp</th>\n",
              "      <td>0.987672</td>\n",
              "      <td>1.000000</td>\n",
              "      <td>-0.049637</td>\n",
              "      <td>-0.057971</td>\n",
              "      <td>0.555509</td>\n",
              "      <td>0.342982</td>\n",
              "      <td>0.385523</td>\n",
              "    </tr>\n",
              "    <tr>\n",
              "      <th>hum</th>\n",
              "      <td>-0.069017</td>\n",
              "      <td>-0.049637</td>\n",
              "      <td>1.000000</td>\n",
              "      <td>-0.290372</td>\n",
              "      <td>-0.370432</td>\n",
              "      <td>-0.320980</td>\n",
              "      <td>-0.336076</td>\n",
              "    </tr>\n",
              "    <tr>\n",
              "      <th>windspeed</th>\n",
              "      <td>-0.018471</td>\n",
              "      <td>-0.057971</td>\n",
              "      <td>-0.290372</td>\n",
              "      <td>1.000000</td>\n",
              "      <td>0.106510</td>\n",
              "      <td>0.117692</td>\n",
              "      <td>0.118262</td>\n",
              "    </tr>\n",
              "    <tr>\n",
              "      <th>casual</th>\n",
              "      <td>0.558111</td>\n",
              "      <td>0.555509</td>\n",
              "      <td>-0.370432</td>\n",
              "      <td>0.106510</td>\n",
              "      <td>1.000000</td>\n",
              "      <td>0.790693</td>\n",
              "      <td>0.849841</td>\n",
              "    </tr>\n",
              "    <tr>\n",
              "      <th>registered</th>\n",
              "      <td>0.346208</td>\n",
              "      <td>0.342982</td>\n",
              "      <td>-0.320980</td>\n",
              "      <td>0.117692</td>\n",
              "      <td>0.790693</td>\n",
              "      <td>1.000000</td>\n",
              "      <td>0.992630</td>\n",
              "    </tr>\n",
              "    <tr>\n",
              "      <th>cnt</th>\n",
              "      <td>0.388694</td>\n",
              "      <td>0.385523</td>\n",
              "      <td>-0.336076</td>\n",
              "      <td>0.118262</td>\n",
              "      <td>0.849841</td>\n",
              "      <td>0.992630</td>\n",
              "      <td>1.000000</td>\n",
              "    </tr>\n",
              "  </tbody>\n",
              "</table>\n",
              "</div>"
            ],
            "text/plain": [
              "                temp     atemp       hum  windspeed    casual  registered  \\\n",
              "temp        1.000000  0.987672 -0.069017  -0.018471  0.558111    0.346208   \n",
              "atemp       0.987672  1.000000 -0.049637  -0.057971  0.555509    0.342982   \n",
              "hum        -0.069017 -0.049637  1.000000  -0.290372 -0.370432   -0.320980   \n",
              "windspeed  -0.018471 -0.057971 -0.290372   1.000000  0.106510    0.117692   \n",
              "casual      0.558111  0.555509 -0.370432   0.106510  1.000000    0.790693   \n",
              "registered  0.346208  0.342982 -0.320980   0.117692  0.790693    1.000000   \n",
              "cnt         0.388694  0.385523 -0.336076   0.118262  0.849841    0.992630   \n",
              "\n",
              "                 cnt  \n",
              "temp        0.388694  \n",
              "atemp       0.385523  \n",
              "hum        -0.336076  \n",
              "windspeed   0.118262  \n",
              "casual      0.849841  \n",
              "registered  0.992630  \n",
              "cnt         1.000000  "
            ]
          },
          "execution_count": 119,
          "metadata": {},
          "output_type": "execute_result"
        }
      ],
      "source": [
        "transformed_data_hour[int_columns].corr()"
      ]
    },
    {
      "cell_type": "code",
      "execution_count": 120,
      "metadata": {
        "colab": {
          "base_uri": "https://localhost:8080/"
        },
        "id": "K6Kr4RDlBDzY",
        "outputId": "8ecea65c-402b-4e45-a589-ce6ff4560a03"
      },
      "outputs": [
        {
          "name": "stdout",
          "output_type": "stream",
          "text": [
            "Distribution of Casual Users by Weekday:\n",
            "Mean Casual User Count: 663.29\n",
            "Standard Deviation of Casual User Count: 45.87\n",
            "Peak Day for Casual Users: 6.0\n",
            "\n",
            "Distribution of Registered Users by Weekday:\n",
            "Mean Registered User Count: 381808.86\n",
            "Standard Deviation of Registered User Count: 48389.85\n",
            "Peak Day for Registered Users: 4.0\n"
          ]
        }
      ],
      "source": [
        "user_distribution = transformed_data_day.groupby('weekday')[['casual', 'registered']].sum().reset_index()\n",
        "\n",
        "mean_casual_users = user_distribution['casual'].mean()\n",
        "std_casual_users = user_distribution['casual'].std()\n",
        "day_of_peak_casual = user_distribution.loc[user_distribution['casual'].idxmax()]['weekday']\n",
        "\n",
        "mean_registered_users = user_distribution['registered'].mean()\n",
        "std_registered_users = user_distribution['registered'].std()\n",
        "day_of_peak_registered = user_distribution.loc[user_distribution['registered'].idxmax()]['weekday']\n",
        "\n",
        "print(\"Distribution of Casual Users by Weekday:\")\n",
        "print(f\"Mean Casual User Count: {mean_casual_users:.2f}\")\n",
        "print(f\"Standard Deviation of Casual User Count: {std_casual_users:.2f}\")\n",
        "print(f\"Peak Day for Casual Users: {day_of_peak_casual}\")\n",
        "\n",
        "print(\"\\nDistribution of Registered Users by Weekday:\")\n",
        "print(f\"Mean Registered User Count: {mean_registered_users:.2f}\")\n",
        "print(f\"Standard Deviation of Registered User Count: {std_registered_users:.2f}\")\n",
        "print(f\"Peak Day for Registered Users: {day_of_peak_registered}\")"
      ]
    },
    {
      "cell_type": "code",
      "execution_count": 121,
      "metadata": {
        "colab": {
          "base_uri": "https://localhost:8080/"
        },
        "id": "U1jVqJTrBMJH",
        "outputId": "c603a6a5-b89d-4e4e-d477-3db0c6d0c77c"
      },
      "outputs": [
        {
          "name": "stdout",
          "output_type": "stream",
          "text": [
            "Distribution of Casual Users by Weekday:\n",
            "Mean Casual User Count: 6719.76\n",
            "Standard Deviation of Casual User Count: 822.99\n",
            "Peak Day for Casual Users: 6.0\n",
            "\n",
            "Distribution of Registered Users by Weekday:\n",
            "Mean Registered User Count: 10869.37\n",
            "Standard Deviation of Registered User Count: 188.81\n",
            "Peak Day for Registered Users: 5.0\n"
          ]
        }
      ],
      "source": [
        "user_distribution = transformed_data_hour.groupby('weekday')[['casual', 'registered']].sum().reset_index()\n",
        "\n",
        "mean_casual_users = user_distribution['casual'].mean()\n",
        "std_casual_users = user_distribution['casual'].std()\n",
        "day_of_peak_casual = user_distribution.loc[user_distribution['casual'].idxmax()]['weekday']\n",
        "\n",
        "mean_registered_users = user_distribution['registered'].mean()\n",
        "std_registered_users = user_distribution['registered'].std()\n",
        "day_of_peak_registered = user_distribution.loc[user_distribution['registered'].idxmax()]['weekday']\n",
        "\n",
        "print(\"Distribution of Casual Users by Weekday:\")\n",
        "print(f\"Mean Casual User Count: {mean_casual_users:.2f}\")\n",
        "print(f\"Standard Deviation of Casual User Count: {std_casual_users:.2f}\")\n",
        "print(f\"Peak Day for Casual Users: {day_of_peak_casual}\")\n",
        "\n",
        "print(\"\\nDistribution of Registered Users by Weekday:\")\n",
        "print(f\"Mean Registered User Count: {mean_registered_users:.2f}\")\n",
        "print(f\"Standard Deviation of Registered User Count: {std_registered_users:.2f}\")\n",
        "print(f\"Peak Day for Registered Users: {day_of_peak_registered}\")"
      ]
    },
    {
      "cell_type": "code",
      "execution_count": 122,
      "metadata": {
        "colab": {
          "base_uri": "https://localhost:8080/"
        },
        "id": "d18K3UEHBl90",
        "outputId": "51aa246e-4e72-46c4-fb77-97ae25dc732c"
      },
      "outputs": [
        {
          "name": "stdout",
          "output_type": "stream",
          "text": [
            "Bike Rental Demand by Month:\n",
            "Mean Monthly Demand: 274389.92\n",
            "Standard Deviation of Monthly Demand: 78533.56\n",
            "Month of Peak Demand: 8\n"
          ]
        }
      ],
      "source": [
        "monthly_demand = transformed_data_day.groupby('mnth')['cnt'].sum().reset_index()\n",
        "\n",
        "mean_monthly_demand = monthly_demand['cnt'].mean()\n",
        "std_monthly_demand = monthly_demand['cnt'].std()\n",
        "month_of_peak_demand = monthly_demand.loc[monthly_demand['cnt'].idxmax()]['mnth']\n",
        "\n",
        "print(\"Bike Rental Demand by Month:\")\n",
        "print(f\"Mean Monthly Demand: {mean_monthly_demand:.2f}\")\n",
        "print(f\"Standard Deviation of Monthly Demand: {std_monthly_demand:.2f}\")\n",
        "print(f\"Month of Peak Demand: {month_of_peak_demand}\")\n"
      ]
    },
    {
      "cell_type": "code",
      "execution_count": 123,
      "metadata": {
        "colab": {
          "base_uri": "https://localhost:8080/"
        },
        "id": "gZYXA7NvBmXY",
        "outputId": "3eca1ca3-835b-4e92-aed0-34613ef7c775"
      },
      "outputs": [
        {
          "name": "stdout",
          "output_type": "stream",
          "text": [
            "Bike Rental Demand by Hour:\n",
            "Mean Hour Demand: 3312.68\n",
            "Standard Deviation of Hour Demand: 908.25\n",
            "Hour of Peak Demand: 17.0\n"
          ]
        }
      ],
      "source": [
        "monthly_demand = transformed_data_hour.groupby('hr')['cnt'].sum().reset_index()\n",
        "\n",
        "mean_monthly_demand = monthly_demand['cnt'].mean()\n",
        "std_monthly_demand = monthly_demand['cnt'].std()\n",
        "month_of_peak_demand = monthly_demand.loc[monthly_demand['cnt'].idxmax()]['hr']\n",
        "\n",
        "print(\"Bike Rental Demand by Hour:\")\n",
        "print(f\"Mean Hour Demand: {mean_monthly_demand:.2f}\")\n",
        "print(f\"Standard Deviation of Hour Demand: {std_monthly_demand:.2f}\")\n",
        "print(f\"Hour of Peak Demand: {month_of_peak_demand}\")\n"
      ]
    },
    {
      "cell_type": "markdown",
      "metadata": {
        "id": "sPHWULgaFZrD"
      },
      "source": [
        "- Dari dataset untuk day.csv yang kita dapatkan bahwa casual user paling sering memakai sepeda di hari ke 6 dan untuk registered user di hari ke 4\n",
        "- Dari dataset untuk hour.csv yang kita dapatkan bahwa casual user paling sering memakai sepeda di hari ke 6 dan untuk registered user di hari ke 5\n",
        "- Dari dataset untuk hour.csv yang kita dapatkan terlihat bahwa orang - orang paling sering memakai sepeda di jam 17\n",
        "- Dari dataset untuk day.csv yang kita dapatkan terlihat bahwa orang - orang paling sering memakai sepeda di bulan ke 8\n"
      ]
    },
    {
      "cell_type": "markdown",
      "metadata": {
        "id": "zsyZjqak8DC2"
      },
      "source": [
        "## Visualization & Explanatory Analysis"
      ]
    },
    {
      "cell_type": "markdown",
      "metadata": {
        "id": "HZxOiQ6n8DC2"
      },
      "source": [
        "### Bagaimana distribusi data untuk Casual vs Registered User ?"
      ]
    },
    {
      "cell_type": "code",
      "execution_count": 124,
      "metadata": {
        "colab": {
          "base_uri": "https://localhost:8080/",
          "height": 455
        },
        "id": "1swJUdAD8DC2",
        "outputId": "c87bceb5-c10f-4075-d197-03e036d75f85"
      },
      "outputs": [
        {
          "data": {
            "image/png": "[encoded data removed]",
            "text/plain": [
              "<Figure size 1500x600 with 2 Axes>"
            ]
          },
          "metadata": {},
          "output_type": "display_data"
        }
      ],
      "source": [
        "user_distribution = transformed_data_day.groupby('weekday')[['casual', 'registered']].sum().reset_index()\n",
        "\n",
        "fig, axes = plt.subplots(nrows=1, ncols=2, figsize=(15, 6))\n",
        "\n",
        "sns.barplot(x='weekday', y='casual', data=user_distribution, color='blue', ax=axes[0])\n",
        "axes[0].set_title('Distribution of Casual Users by weekday')\n",
        "axes[0].set_xlabel('Weekday')\n",
        "axes[0].set_ylabel('Casual User Count')\n",
        "\n",
        "sns.barplot(x='weekday', y='registered', data=user_distribution, color='orange', ax=axes[1])\n",
        "axes[1].set_title('Distribution of Registered Users by Weekday')\n",
        "axes[1].set_xlabel('Weekday')\n",
        "axes[1].set_ylabel('Registered User Count')\n",
        "\n",
        "plt.tight_layout()\n",
        "plt.show()"
      ]
    },
    {
      "cell_type": "code",
      "execution_count": 125,
      "metadata": {
        "colab": {
          "base_uri": "https://localhost:8080/",
          "height": 455
        },
        "id": "UF0x_2BI7Jbx",
        "outputId": "efd77d33-6773-4db4-a705-a3858cf6ae65"
      },
      "outputs": [
        {
          "data": {
            "image/png": "[encoded data removed]",
            "text/plain": [
              "<Figure size 1500x600 with 2 Axes>"
            ]
          },
          "metadata": {},
          "output_type": "display_data"
        }
      ],
      "source": [
        "user_distribution = transformed_data_hour.groupby('weekday')[['casual', 'registered']].sum().reset_index()\n",
        "\n",
        "fig, axes = plt.subplots(nrows=1, ncols=2, figsize=(15, 6))\n",
        "\n",
        "sns.barplot(x='weekday', y='casual', data=user_distribution, color='blue', ax=axes[0])\n",
        "axes[0].set_title('Distribution of Casual Users by Weekday')\n",
        "axes[0].set_xlabel('Weekday')\n",
        "axes[0].set_ylabel('Casual User Count')\n",
        "\n",
        "sns.barplot(x='weekday', y='registered', data=user_distribution, color='orange', ax=axes[1])\n",
        "axes[1].set_title('Distribution of Registered Users by Weekday')\n",
        "axes[1].set_xlabel('Weekday')\n",
        "axes[1].set_ylabel('Registered User Count')\n",
        "\n",
        "plt.tight_layout()\n",
        "plt.show()"
      ]
    },
    {
      "cell_type": "markdown",
      "metadata": {
        "id": "DgHI7CiU8DC2"
      },
      "source": [
        "### Apakah ada bulan atau musim tertentu dengan permintaan sewa sepeda yang lebih tinggi?"
      ]
    },
    {
      "cell_type": "code",
      "execution_count": 126,
      "metadata": {
        "colab": {
          "base_uri": "https://localhost:8080/",
          "height": 573
        },
        "id": "Go0lCsvO8DC2",
        "outputId": "adc8decd-326f-4416-8404-74e9c18637a8"
      },
      "outputs": [
        {
          "data": {
            "image/png": "[encoded data removed]",
            "text/plain": [
              "<Figure size 1000x600 with 1 Axes>"
            ]
          },
          "metadata": {},
          "output_type": "display_data"
        }
      ],
      "source": [
        "monthly_demand = transformed_data_day.groupby('mnth')['cnt'].sum().reset_index()\n",
        "\n",
        "plt.figure(figsize=(10, 6))\n",
        "sns.barplot(x='mnth', y='cnt', data=monthly_demand)\n",
        "\n",
        "plt.title('Bike Rental Demand by Month')\n",
        "plt.xlabel('Month')\n",
        "plt.ylabel('Total Rental Bikes')\n",
        "plt.show()"
      ]
    },
    {
      "cell_type": "code",
      "execution_count": 127,
      "metadata": {
        "colab": {
          "base_uri": "https://localhost:8080/",
          "height": 573
        },
        "id": "RO_r_99S7R51",
        "outputId": "bd3739c0-a124-4933-90c4-a56f7fb7d0ad"
      },
      "outputs": [
        {
          "data": {
            "image/png": "[encoded data removed]",
            "text/plain": [
              "<Figure size 1000x600 with 1 Axes>"
            ]
          },
          "metadata": {},
          "output_type": "display_data"
        }
      ],
      "source": [
        "hourly_demand = transformed_data_hour.groupby('hr')['cnt'].sum().reset_index()\n",
        "\n",
        "plt.figure(figsize=(10, 6))\n",
        "sns.barplot(x='hr', y='cnt', data=hourly_demand)\n",
        "\n",
        "plt.title('Bike Rental Demand by Hour')\n",
        "plt.xlabel('hour')\n",
        "plt.ylabel('Total Rental Bikes')\n",
        "plt.show()"
      ]
    },
    {
      "cell_type": "markdown",
      "metadata": {
        "id": "_WeHlCeX8DC2"
      },
      "source": [
        "## Conclusion"
      ]
    },
    {
      "cell_type": "markdown",
      "metadata": {
        "id": "ZTcyR48Y8DC2"
      },
      "source": [
        "- Conclusion pertanyaan 1:\n",
        "     - Dari Visualisasi data untuk dataset day yang bisa kita lihat terlihat bahwa registered user lebih sering memakai sepeda pada hari ke 1 - 5  sedangkan untuk casual User lebih sering memakai sepeda pada hari ke 0 dan 6\n",
        "     - Dari Visualisasi data untuk dataset hour yang bisa kita lihat terlihat bahwa registered user lebih sering memakai sepeda pada hari ke 1 - 5  sedangkan untuk casual User lebih sering memakai sepeda pada hari ke 0 dan 6\n",
        "     - Dari Visualisasi data untuk dataset hour dapat kita lihat bahwa registered user yang memakai sepeda melebihi 10000 sepeda untuk setiap hari sedangkan untuk casual user tidak mencapai 10000 sepeda\n",
        "- Conclusion pertanyaan 2:\n",
        "     - Dari Visualisasi data untuk dataset day dapat kita lihat bahwa Sepeda sering dipakai pada bulan 5 sampai bulan 10\n",
        "     - Dari Visualisasi data untuk dataset hour dapat kita lihat bahwa Sepeda sering dipakai pada jam 8 sampau jam 19\n"
      ]
    },
    {
      "cell_type": "markdown",
      "metadata": {
        "id": "6apjRlhsJ4ga"
      },
      "source": [
        "## EXPORT CLEAN FILE"
      ]
    },
    {
      "cell_type": "code",
      "execution_count": 128,
      "metadata": {
        "id": "hjURdKArJ4D7"
      },
      "outputs": [],
      "source": [
        "transformed_data_day.to_csv('clean_day.csv', index=False)\n",
        "transformed_data_hour.to_csv('clean_hour.csv', index=False)"
      ]
    }
  ],
  "metadata": {
    "colab": {
      "provenance": []
    },
    "kernelspec": {
      "display_name": "Python 3",
      "language": "python",
      "name": "python3"
    },
    "language_info": {
      "codemirror_mode": {
        "name": "ipython",
        "version": 3
      },
      "file_extension": ".py",
      "mimetype": "text/x-python",
      "name": "python",
      "nbconvert_exporter": "python",
      "pygments_lexer": "ipython3",
      "version": "3.11.3"
    },
    "orig_nbformat": 4,
    "vscode": {
      "interpreter": {
        "hash": "972b3bf27e332e87b5379f2791f6ef9dfc79c71018c370b0d7423235e20fe4d7"
      }
    }
  },
  "nbformat": 4,
  "nbformat_minor": 0
}
